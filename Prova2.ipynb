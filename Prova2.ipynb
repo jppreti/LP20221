{
  "nbformat": 4,
  "nbformat_minor": 0,
  "metadata": {
    "colab": {
      "name": "Prova2.ipynb",
      "provenance": [],
      "collapsed_sections": [],
      "authorship_tag": "ABX9TyOmWMScsaYZliwD1ggF+yhr",
      "include_colab_link": true
    },
    "kernelspec": {
      "name": "python3",
      "display_name": "Python 3"
    },
    "language_info": {
      "name": "python"
    }
  },
  "cells": [
    {
      "cell_type": "markdown",
      "metadata": {
        "id": "view-in-github",
        "colab_type": "text"
      },
      "source": [
        "<a href=\"https://colab.research.google.com/github/jppreti/LP20221/blob/main/Prova2.ipynb\" target=\"_parent\"><img src=\"https://colab.research.google.com/assets/colab-badge.svg\" alt=\"Open In Colab\"/></a>"
      ]
    },
    {
      "cell_type": "markdown",
      "source": [
        "Cada questão vale 2 pontos. Ao término da prova enviar a solução das questões para:\n",
        "\n",
        "e-mail: preti.joao@ifmt.edu.br\n",
        "\n",
        "Assunto: Prova 2 de LP\n",
        "\n",
        "Mensagem: Nome completo do(a) estudante."
      ],
      "metadata": {
        "id": "rUTt56RB1tIL"
      }
    },
    {
      "cell_type": "markdown",
      "source": [
        "**QUESTÃO 1**\n",
        "\n",
        "Faça um programa que gere 100 números aleatórios e guarde-os em uma lista, em seguida construa uma segunda lista contendo apenas os números pares da primeira lista."
      ],
      "metadata": {
        "id": "DgODERiL2PYX"
      }
    },
    {
      "cell_type": "code",
      "execution_count": null,
      "metadata": {
        "id": "L8ixfBw21p5-"
      },
      "outputs": [],
      "source": [
        ""
      ]
    },
    {
      "cell_type": "markdown",
      "source": [
        "**QUESTÃO 2** \n",
        "\n",
        "Faça um programa que solicite dados referentes a nome do aluno, curso e semestre. Esses dados devem ser solicitados enquanto o nome do aluno não for igual a `sair`. Ao final os dados devem ser salvos no arquivo `dados.dat` no formato abaixo, sendo uma linha para cada aluno:\n",
        "\n",
        "`nome_do_aluno;curso;semestre`"
      ],
      "metadata": {
        "id": "sIzuNMQq3Ywt"
      }
    },
    {
      "cell_type": "code",
      "source": [
        ""
      ],
      "metadata": {
        "id": "jzQTTnuC4H2H"
      },
      "execution_count": null,
      "outputs": []
    },
    {
      "cell_type": "markdown",
      "source": [
        "**QUESTÃO 3** \n",
        "\n",
        "Faça um programa que solicite um MAC Address qualquer e verifique se está no formato válido (exemplo: `00:1B:C9:4B:E3:57`) utilizando expressão regular. Os endereços MAC são reconhecíveis como seis grupos de dois dígitos hexadecimais."
      ],
      "metadata": {
        "id": "FdIj3VgV4IX5"
      }
    },
    {
      "cell_type": "code",
      "source": [
        ""
      ],
      "metadata": {
        "id": "LfrR9CC-4VqR"
      },
      "execution_count": null,
      "outputs": []
    },
    {
      "cell_type": "markdown",
      "source": [
        "**QUESTÃO 4**\n",
        "\n",
        "Faça um programa que leia as palavras em `words.txt` e guarde-as como chaves em um dicionário. Não importa quais são os valores. Então você pode usar o operador `in` como uma forma rápida de verificar se uma string está no dicionário."
      ],
      "metadata": {
        "id": "aPIq5ctN4b_d"
      }
    },
    {
      "cell_type": "code",
      "source": [
        ""
      ],
      "metadata": {
        "id": "WGYT7c_C5MjF"
      },
      "execution_count": null,
      "outputs": []
    },
    {
      "cell_type": "markdown",
      "source": [
        "**QUESTÃO 5**\n",
        "\n",
        "Faça um programa que leia um número inteiro fornecido pelo usuário. O programa deverá tratar e se proteger de qualquer erro ou exceção que possa vir a ocorrer, apresentando mensagens adequadas."
      ],
      "metadata": {
        "id": "q6Kwboxf69YU"
      }
    },
    {
      "cell_type": "code",
      "source": [
        ""
      ],
      "metadata": {
        "id": "CvBtqhaA66bS"
      },
      "execution_count": null,
      "outputs": []
    }
  ]
}