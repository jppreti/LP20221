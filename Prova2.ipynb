{
  "nbformat": 4,
  "nbformat_minor": 0,
  "metadata": {
    "colab": {
      "name": "Prova2.ipynb",
      "provenance": [],
      "collapsed_sections": [],
      "authorship_tag": "ABX9TyNFMmddj1tJzXxMh8wq46+M",
      "include_colab_link": true
    },
    "kernelspec": {
      "name": "python3",
      "display_name": "Python 3"
    },
    "language_info": {
      "name": "python"
    }
  },
  "cells": [
    {
      "cell_type": "markdown",
      "metadata": {
        "id": "view-in-github",
        "colab_type": "text"
      },
      "source": [
        "<a href=\"https://colab.research.google.com/github/jppreti/LP20221/blob/main/Prova2.ipynb\" target=\"_parent\"><img src=\"https://colab.research.google.com/assets/colab-badge.svg\" alt=\"Open In Colab\"/></a>"
      ]
    },
    {
      "cell_type": "markdown",
      "source": [
        "Cada questão vale 2 pontos. Ao término da prova enviar a solução das questões para:\n",
        "\n",
        "e-mail: preti.joao@ifmt.edu.br\n",
        "\n",
        "Assunto: Prova 2 de LP\n",
        "\n",
        "Mensagem: Nome completo do(a) estudante."
      ],
      "metadata": {
        "id": "rUTt56RB1tIL"
      }
    },
    {
      "cell_type": "markdown",
      "source": [
        "**QUESTÃO 1**\n",
        "\n",
        "Faça um programa que gere 100 números aleatórios e guarde-os em uma lista, em seguida construa uma segunda lista contendo apenas os números pares da primeira lista."
      ],
      "metadata": {
        "id": "DgODERiL2PYX"
      }
    },
    {
      "cell_type": "code",
      "execution_count": 2,
      "metadata": {
        "id": "L8ixfBw21p5-",
        "outputId": "77ad95c6-7566-4333-ad60-ea4d171b12c3",
        "colab": {
          "base_uri": "https://localhost:8080/"
        }
      },
      "outputs": [
        {
          "output_type": "stream",
          "name": "stdout",
          "text": [
            "[66, 87, 40, 22, 23, 9, 79, 46, 22, 2, 29, 97, 38, 34, 38, 67, 88, 63, 27, 80, 5, 57, 31, 45, 1, 88, 68, 17, 14, 67, 45, 51, 51, 87, 67, 93, 13, 30, 30, 15, 17, 37, 48, 55, 21, 28, 36, 11, 71, 93, 91, 63, 49, 69, 27, 83, 5, 63, 78, 57, 64, 56, 18, 23, 48, 39, 74, 34, 93, 35, 12, 65, 42, 25, 50, 64, 85, 45, 45, 43, 34, 75, 97, 93, 95, 16, 40, 81, 6, 95, 83, 73, 21, 88, 22, 94, 46, 17, 78, 9]\n",
            "[66, 40, 22, 46, 22, 2, 38, 34, 38, 88, 80, 88, 68, 14, 30, 30, 48, 28, 36, 78, 64, 56, 18, 48, 74, 34, 12, 42, 50, 64, 34, 16, 40, 6, 88, 22, 94, 46, 78]\n"
          ]
        }
      ],
      "source": [
        "import random\n",
        "\n",
        "lista_numeros = []\n",
        "lista_pares = []\n",
        "\n",
        "for i in range(100):\n",
        "  numero = random.randrange(100)\n",
        "  lista_numeros.append(numero)\n",
        "  if numero%2==0:\n",
        "    lista_pares.append(numero)\n",
        "\n",
        "print(lista_numeros)\n",
        "print(lista_pares)\n"
      ]
    },
    {
      "cell_type": "markdown",
      "source": [
        "**QUESTÃO 2** \n",
        "\n",
        "Faça um programa que solicite dados referentes a nome do aluno, curso e semestre. Esses dados devem ser solicitados enquanto o nome do aluno não for igual a `sair`. Ao final os dados devem ser salvos no arquivo `dados.dat` no formato abaixo, sendo uma linha para cada aluno:\n",
        "\n",
        "`nome_do_aluno;curso;semestre`"
      ],
      "metadata": {
        "id": "sIzuNMQq3Ywt"
      }
    },
    {
      "cell_type": "code",
      "source": [
        "nome = ''\n",
        "curso = ''\n",
        "semestre = ''\n",
        "alunos = []\n",
        "\n",
        "while (True):\n",
        "  nome = input('Nome: ')\n",
        "  if nome == 'sair': break\n",
        "  curso = input('Curso: ')\n",
        "  semestre = int(input('Semestre: '))\n",
        "  aluno = f'{nome};{curso};{semestre}\\n'\n",
        "  alunos.append(aluno)\n",
        "\n",
        "with open('alunos.dat','w') as arquivo:\n",
        "  for aluno in alunos:\n",
        "    arquivo.write(aluno)"
      ],
      "metadata": {
        "id": "jzQTTnuC4H2H",
        "outputId": "7f7e9c9f-da50-48b8-95f4-fcfd4ac76ba5",
        "colab": {
          "base_uri": "https://localhost:8080/"
        }
      },
      "execution_count": 13,
      "outputs": [
        {
          "name": "stdout",
          "output_type": "stream",
          "text": [
            "Nome: sair\n"
          ]
        }
      ]
    },
    {
      "cell_type": "markdown",
      "source": [
        "**QUESTÃO 3** \n",
        "\n",
        "Faça um programa que solicite um MAC Address qualquer e verifique se está no formato válido (exemplo: `00:1B:C9:4B:E3:57`) utilizando expressão regular. Os endereços MAC são reconhecíveis como seis grupos de dois dígitos hexadecimais."
      ],
      "metadata": {
        "id": "FdIj3VgV4IX5"
      }
    },
    {
      "cell_type": "code",
      "source": [
        "import re\n",
        "\n",
        "expMAC = \"[0-9A-F]{2}[:][0-9A-F]{2}[:][0-9A-F]{2}[:][0-9A-F]{2}[:][0-9A-F]{2}[:][0-9A-F]{2}\"\n",
        "mac = input(\"MAC: \")\n",
        "\n",
        "while not re.match(expMAC,mac):\n",
        "  print(\"Formato MAC Inválido\")\n",
        "  mac = input(\"MAC: \")\n",
        "else:\n",
        "  print(\"Formato MAC Válido\")"
      ],
      "metadata": {
        "id": "LfrR9CC-4VqR",
        "outputId": "01d77340-a1d6-418f-fd6e-58e02a8bde3d",
        "colab": {
          "base_uri": "https://localhost:8080/"
        }
      },
      "execution_count": 11,
      "outputs": [
        {
          "output_type": "stream",
          "name": "stdout",
          "text": [
            "MAC: 00:1B:C9:4B:E3:57\n",
            "Formato MAC Válido\n"
          ]
        }
      ]
    },
    {
      "cell_type": "markdown",
      "source": [
        "**QUESTÃO 4**\n",
        "\n",
        "Faça um programa que leia as palavras em `words.txt` e guarde-as como chaves em um dicionário. Não importa quais são os valores. Então você pode usar o operador `in` como uma forma rápida de verificar se uma string está no dicionário."
      ],
      "metadata": {
        "id": "aPIq5ctN4b_d"
      }
    },
    {
      "cell_type": "code",
      "source": [
        "dicionario = {}\n",
        "\n",
        "with open('words.txt','r') as arquivo:\n",
        "  for linha in arquivo:\n",
        "    dicionario[linha.strip()] = linha.strip()\n",
        "\n",
        "palavra = ''\n",
        "while (palavra!='sair'):\n",
        "  palavra = input('Palavra: ')\n",
        "  if palavra in dicionario:\n",
        "    print('Palavra encontrada!')\n",
        "  else:\n",
        "    print('Palavra não encontrada!')\n",
        "\n"
      ],
      "metadata": {
        "id": "WGYT7c_C5MjF",
        "outputId": "7b54b31c-54a6-4f74-eff9-bdcea74427da",
        "colab": {
          "base_uri": "https://localhost:8080/"
        }
      },
      "execution_count": 8,
      "outputs": [
        {
          "output_type": "stream",
          "name": "stdout",
          "text": [
            "Palavra: ola\n",
            "Palavra encontrada!\n",
            "Palavra: alo\n",
            "Palavra encontrada!\n",
            "Palavra: cadeira\n",
            "Palavra não encontrada!\n",
            "Palavra: porta\n",
            "Palavra encontrada!\n",
            "Palavra: sair\n",
            "Palavra não encontrada!\n"
          ]
        }
      ]
    },
    {
      "cell_type": "markdown",
      "source": [
        "**QUESTÃO 5**\n",
        "\n",
        "Faça um programa que leia um número inteiro fornecido pelo usuário. O programa deverá tratar e se proteger de qualquer erro ou exceção que possa vir a ocorrer, apresentando mensagens adequadas."
      ],
      "metadata": {
        "id": "q6Kwboxf69YU"
      }
    },
    {
      "cell_type": "code",
      "source": [
        "try:\n",
        "  numero = int(input('Digite um número: '))\n",
        "except ValueError:\n",
        "  print('O valor informado não é um número inteiro!')\n",
        "except:\n",
        "  print('Ocorreu um erro desconhecido!')"
      ],
      "metadata": {
        "id": "CvBtqhaA66bS",
        "outputId": "c63eed43-95dc-4cdb-c55b-16be13b16889",
        "colab": {
          "base_uri": "https://localhost:8080/"
        }
      },
      "execution_count": 6,
      "outputs": [
        {
          "output_type": "stream",
          "name": "stdout",
          "text": [
            "Ocorreu um erro desconhecido!\n"
          ]
        }
      ]
    }
  ]
}