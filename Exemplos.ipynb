{
  "nbformat": 4,
  "nbformat_minor": 0,
  "metadata": {
    "colab": {
      "name": "LP20221.ipynb",
      "provenance": [],
      "authorship_tag": "ABX9TyO5MLCn1/hle3Twy472B9+l"
    },
    "kernelspec": {
      "name": "python3",
      "display_name": "Python 3"
    },
    "language_info": {
      "name": "python"
    }
  },
  "cells": [
    {
      "cell_type": "markdown",
      "source": [
        "Códigos em Python apresentados na disciplina de **Laboratório de Programação** da turma de **2022/1**."
      ],
      "metadata": {
        "id": "Qn_dYXTxkfye"
      }
    },
    {
      "cell_type": "markdown",
      "source": [
        "Primeiro exemplo em python:"
      ],
      "metadata": {
        "id": "NRUNgwkUbRi8"
      }
    },
    {
      "cell_type": "code",
      "execution_count": null,
      "metadata": {
        "id": "9Of7DJmyTvaj",
        "outputId": "e3007bba-413f-405b-a307-2f6cb2a22f0b",
        "colab": {
          "base_uri": "https://localhost:8080/"
        }
      },
      "outputs": [
        {
          "output_type": "stream",
          "name": "stdout",
          "text": [
            "Digite seu nome: j\n",
            "Digite sua idade: 23\n",
            "<class 'int'>\n",
            "33\n",
            "Olá Maria! Sua idade é: 42\n",
            "Olá j - 33, seja bem vindo(a)!\n"
          ]
        }
      ],
      "source": [
        "nome1 = \"Maria\"                                         # criando uma variável texto\n",
        "idade1 = 42\n",
        "nome2 = input(\"Digite seu nome: \")                      # pedindo dados ao usuário\n",
        "idade2 = int(input(\"Digite sua idade: \"))\n",
        "print(type(idade2))                                     # verificando o tipo da variável\n",
        "print(idade2+10)\n",
        "print(\"Olá \" + nome1 + \"! Sua idade é: \" + str(idade1)) # imprimindo a mensagem de olá\n",
        "print(f\"Olá {nome2} - {idade2+10}, seja bem vindo(a)!\") # imprimindo mensagem formatada\n"
      ]
    },
    {
      "cell_type": "markdown",
      "source": [
        "Conversão de tipo:"
      ],
      "metadata": {
        "id": "UG-ZiW8Gawvp"
      }
    },
    {
      "cell_type": "code",
      "source": [
        "x = 5             # criamos uma variável com valor inteiro\n",
        "y = 4.3           # criamos uma variável com valor float (real)\n",
        "\n",
        "print(type(x))    # apresentando o tipo de x\n",
        "print(type(y))    # apresentando o tipo de y\n",
        "\n",
        "print(f\"x: {x}\")  # exibindo o valor de x \n",
        "print(f\"y: {y}\")  # exibindo o valor de y\n",
        "\n",
        "z = float(x)      # conversão do valor de x para float\n",
        "w = int(y)        # conversão do valor de y para int\n",
        "\n",
        "print(f\"z: {z}\")  # exibindo o valor de z que é o valor de x convertido em float\n",
        "print(f\"w: {w}\")  # exibindo o valor de w que é o valor de y convertido em float\n"
      ],
      "metadata": {
        "colab": {
          "base_uri": "https://localhost:8080/"
        },
        "id": "J8c2wHSXa27p",
        "outputId": "f358b9aa-7271-4495-fe5d-e5a4ba0d806d"
      },
      "execution_count": 3,
      "outputs": [
        {
          "output_type": "stream",
          "name": "stdout",
          "text": [
            "<class 'int'>\n",
            "<class 'float'>\n",
            "x: 5\n",
            "y: 4.3\n",
            "z: 5.0\n",
            "w: 4\n"
          ]
        }
      ]
    },
    {
      "cell_type": "markdown",
      "source": [
        "Operações com String (texto)"
      ],
      "metadata": {
        "id": "RG1Bq3Rqd0qM"
      }
    },
    {
      "cell_type": "code",
      "source": [
        "nome = \"   João Paulo   \"\n",
        "print(len(nome))             #tamanho da string\n",
        "nome = nome.strip()          #remove os espaços em branco nas extremidades\n",
        "print(len(nome))\n",
        "print(nome[1])               #o primeiro caractere é o de posição 0\n",
        "print(nome[2:4])             #de 2 a 3 (último não incluso)\n",
        "print(nome[-5:-1])           #começa a contagem pelo final da string\n",
        "print(nome.lower())          #transforma em minúsculo\n",
        "print(nome.upper())          #transforma em maiúsculo\n",
        "print(nome.replace(\"o\",\"0\")) #substitui a string\n",
        "print(nome.split(\" \"))       #returns [\"João\",\"Paulo\"]\n",
        "print(\"au\" in nome)          #retorna True se existe na string\n",
        "print(\"au\" not in nome)      #retorna True se não existe na string\n",
        "idade = 40\n",
        "texto = \"Meu nome é {} e tenho {} anos.\"\n",
        "print(texto.format(nome,idade))"
      ],
      "metadata": {
        "colab": {
          "base_uri": "https://localhost:8080/"
        },
        "id": "1wn3H7U6eC-d",
        "outputId": "3f980cd7-ee35-4389-e99e-6414924a3148"
      },
      "execution_count": 5,
      "outputs": [
        {
          "output_type": "stream",
          "name": "stdout",
          "text": [
            "16\n",
            "10\n",
            "o\n",
            "ão\n",
            "Paul\n",
            "joão paulo\n",
            "JOÃO PAULO\n",
            "J0ã0 Paul0\n",
            "['João', 'Paulo']\n",
            "True\n",
            "False\n",
            "Meu nome é João Paulo e tenho 40 anos.\n"
          ]
        }
      ]
    },
    {
      "cell_type": "markdown",
      "source": [
        "Estrutura de Condição:"
      ],
      "metadata": {
        "id": "jCdMZTidkyh6"
      }
    },
    {
      "cell_type": "code",
      "source": [
        "nota = float(input(\"Digite a nota do estudante: \"))\n",
        "\n",
        "if nota == 10:\n",
        "  print(\"Aprovado com Mérito\")\n",
        "elif nota >= 6:\n",
        "  print(\"Aprovado\")\n",
        "elif nota >= 5:\n",
        "  print(\"Em recuperação\")\n",
        "  notapf = float(input(\"Digite a nota da PF: \"))\n",
        "  media = (nota + notapf)/2\n",
        "  if (media >= 5):\n",
        "    print(\"Aprovado na Recuperação\")\n",
        "  else:\n",
        "    print(\"Reprovado na Recuperação\")\n",
        "else:\n",
        "  print(\"Reprovado\")"
      ],
      "metadata": {
        "id": "IrjU234Gkx-x",
        "outputId": "bd430817-5cbd-4d8c-c1d3-11dd5c1305db",
        "colab": {
          "base_uri": "https://localhost:8080/"
        }
      },
      "execution_count": 16,
      "outputs": [
        {
          "output_type": "stream",
          "name": "stdout",
          "text": [
            "Digite a nota do estudante: 5\n",
            "Em recuperação\n",
            "Digite a nota da PF: 3\n",
            "Reprovado na Recuperação\n"
          ]
        }
      ]
    }
  ]
}