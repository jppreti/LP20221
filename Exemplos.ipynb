{
  "nbformat": 4,
  "nbformat_minor": 0,
  "metadata": {
    "colab": {
      "name": "LP20221.ipynb",
      "provenance": [],
      "authorship_tag": "ABX9TyPpx+MStTVjZij0YkYgIeo7"
    },
    "kernelspec": {
      "name": "python3",
      "display_name": "Python 3"
    },
    "language_info": {
      "name": "python"
    }
  },
  "cells": [
    {
      "cell_type": "markdown",
      "source": [
        "Códigos em Python apresentados na disciplina de **Laboratório de Programação** da turma de **2022/1**."
      ],
      "metadata": {
        "id": "Qn_dYXTxkfye"
      }
    },
    {
      "cell_type": "markdown",
      "source": [
        "Primeiro exemplo em python:"
      ],
      "metadata": {
        "id": "NRUNgwkUbRi8"
      }
    },
    {
      "cell_type": "code",
      "execution_count": null,
      "metadata": {
        "id": "9Of7DJmyTvaj",
        "outputId": "e3007bba-413f-405b-a307-2f6cb2a22f0b",
        "colab": {
          "base_uri": "https://localhost:8080/"
        }
      },
      "outputs": [
        {
          "output_type": "stream",
          "name": "stdout",
          "text": [
            "Digite seu nome: j\n",
            "Digite sua idade: 23\n",
            "<class 'int'>\n",
            "33\n",
            "Olá Maria! Sua idade é: 42\n",
            "Olá j - 33, seja bem vindo(a)!\n"
          ]
        }
      ],
      "source": [
        "nome1 = \"Maria\"                                         # criando uma variável texto\n",
        "idade1 = 42\n",
        "nome2 = input(\"Digite seu nome: \")                      # pedindo dados ao usuário\n",
        "idade2 = int(input(\"Digite sua idade: \"))\n",
        "print(type(idade2))                                     # verificando o tipo da variável\n",
        "print(idade2+10)\n",
        "print(\"Olá \" + nome1 + \"! Sua idade é: \" + str(idade1)) # imprimindo a mensagem de olá\n",
        "print(f\"Olá {nome2} - {idade2+10}, seja bem vindo(a)!\") # imprimindo mensagem formatada\n"
      ]
    },
    {
      "cell_type": "markdown",
      "source": [
        "Conversão de tipo:"
      ],
      "metadata": {
        "id": "UG-ZiW8Gawvp"
      }
    },
    {
      "cell_type": "code",
      "source": [
        "x = 5             # criamos uma variável com valor inteiro\n",
        "y = 4.3           # criamos uma variável com valor float (real)\n",
        "\n",
        "print(type(x))    # apresentando o tipo de x\n",
        "print(type(y))    # apresentando o tipo de y\n",
        "\n",
        "print(f\"x: {x}\")  # exibindo o valor de x \n",
        "print(f\"y: {y}\")  # exibindo o valor de y\n",
        "\n",
        "z = float(x)      # conversão do valor de x para float\n",
        "w = int(y)        # conversão do valor de y para int\n",
        "\n",
        "print(f\"z: {z}\")  # exibindo o valor de z que é o valor de x convertido em float\n",
        "print(f\"w: {w}\")  # exibindo o valor de w que é o valor de y convertido em float\n"
      ],
      "metadata": {
        "colab": {
          "base_uri": "https://localhost:8080/"
        },
        "id": "J8c2wHSXa27p",
        "outputId": "f358b9aa-7271-4495-fe5d-e5a4ba0d806d"
      },
      "execution_count": null,
      "outputs": [
        {
          "output_type": "stream",
          "name": "stdout",
          "text": [
            "<class 'int'>\n",
            "<class 'float'>\n",
            "x: 5\n",
            "y: 4.3\n",
            "z: 5.0\n",
            "w: 4\n"
          ]
        }
      ]
    },
    {
      "cell_type": "markdown",
      "source": [
        "Operações com String (texto)"
      ],
      "metadata": {
        "id": "RG1Bq3Rqd0qM"
      }
    },
    {
      "cell_type": "code",
      "source": [
        "nome = \"   João Paulo   \"\n",
        "print(len(nome))             #tamanho da string\n",
        "nome = nome.strip()          #remove os espaços em branco nas extremidades\n",
        "print(len(nome))\n",
        "print(nome[1])               #o primeiro caractere é o de posição 0\n",
        "print(nome[2:4])             #de 2 a 3 (último não incluso)\n",
        "print(nome[-5:-1])           #começa a contagem pelo final da string\n",
        "print(nome[0:10:2])          ##de 0 a 10 (último não incluso) saltando duas posições a cada caractere\n",
        "print(nome.lower())          #transforma em minúsculo\n",
        "print(nome.upper())          #transforma em maiúsculo\n",
        "print(nome.replace(\"o\",\"0\")) #substitui a string\n",
        "print(nome.split(\" \"))       #returns [\"João\",\"Paulo\"]\n",
        "print(\"au\" in nome)          #retorna True se existe na string\n",
        "print(\"au\" not in nome)      #retorna True se não existe na string\n",
        "idade = 40\n",
        "texto = \"Meu nome é {} e tenho {} anos.\"\n",
        "print(texto.format(nome,idade))"
      ],
      "metadata": {
        "colab": {
          "base_uri": "https://localhost:8080/"
        },
        "id": "1wn3H7U6eC-d",
        "outputId": "3f980cd7-ee35-4389-e99e-6414924a3148"
      },
      "execution_count": null,
      "outputs": [
        {
          "output_type": "stream",
          "name": "stdout",
          "text": [
            "16\n",
            "10\n",
            "o\n",
            "ão\n",
            "Paul\n",
            "joão paulo\n",
            "JOÃO PAULO\n",
            "J0ã0 Paul0\n",
            "['João', 'Paulo']\n",
            "True\n",
            "False\n",
            "Meu nome é João Paulo e tenho 40 anos.\n"
          ]
        }
      ]
    },
    {
      "cell_type": "markdown",
      "source": [
        "Estrutura de Condição:"
      ],
      "metadata": {
        "id": "jCdMZTidkyh6"
      }
    },
    {
      "cell_type": "code",
      "source": [
        "nota = float(input(\"Digite a nota do estudante: \"))\n",
        "\n",
        "if nota == 10:\n",
        "  print(\"Aprovado com Mérito\")\n",
        "elif nota >= 6:\n",
        "  print(\"Aprovado\")\n",
        "elif nota >= 5:\n",
        "  print(\"Em recuperação\")\n",
        "  notapf = float(input(\"Digite a nota da PF: \"))\n",
        "  media = (nota + notapf)/2\n",
        "  if (media >= 5):\n",
        "    print(\"Aprovado na Recuperação\")\n",
        "  else:\n",
        "    print(\"Reprovado na Recuperação\")\n",
        "else:\n",
        "  print(\"Reprovado\")"
      ],
      "metadata": {
        "colab": {
          "base_uri": "https://localhost:8080/"
        },
        "id": "IrjU234Gkx-x",
        "outputId": "bd430817-5cbd-4d8c-c1d3-11dd5c1305db"
      },
      "execution_count": null,
      "outputs": [
        {
          "output_type": "stream",
          "name": "stdout",
          "text": [
            "Digite a nota do estudante: 5\n",
            "Em recuperação\n",
            "Digite a nota da PF: 3\n",
            "Reprovado na Recuperação\n"
          ]
        }
      ]
    },
    {
      "cell_type": "markdown",
      "source": [
        "Faça um programa que leia o nome, a qtde e o valor de um produto qualquer, apresente os dados do produto e o valor total. Ao final peça para o usuário informar se é cliente (bronze, prata ou ouro) e apresente um novo valor total com o desconto equivalente a sua categoria (5%, 7%, 10%)"
      ],
      "metadata": {
        "id": "5MevBcxzwRyK"
      }
    },
    {
      "cell_type": "code",
      "source": [
        "nome = input(\"Digite o nome do produto: \")\n",
        "qtde = int(input(\"Digite a qtde do produto: \"))\n",
        "valor_produto = float(input(\"Digite o valor unitário do produto: \"))\n",
        "\n",
        "print(f\"Nome: {nome}\")\n",
        "print(f\"Qtde: {qtde}\")\n",
        "print(f\"Valor Unitário: {valor_produto}\")\n",
        "valor_total = qtde*valor_produto\n",
        "print(f\"Valor Total: {valor_total}\")\n",
        "\n",
        "categoria_cliente = input(\"Informe sua categoria(bronze, prata , ouro): \")\n",
        "categoria_cliente = categoria_cliente.strip().lower()\n",
        "desconto = 0.0\n",
        "if categoria_cliente == \"bronze\":\n",
        "  desconto = 5/100                # desconto = valor_total * (5/100) \n",
        "elif categoria_cliente == \"prata\":\n",
        "  desconto = 7/100\n",
        "elif categoria_cliente == \"ouro\":\n",
        "  desconto - 10/100\n",
        "else:\n",
        "  desconto = 0.0\n",
        "\n",
        "novo_valor_total = valor_total * (1-desconto)   # valor_total - desconto\n",
        "print(f\"Valor total com desconto para cliente {categoria_cliente}: {novo_valor_total}\")\n",
        "\n",
        "\n",
        "\n"
      ],
      "metadata": {
        "id": "npW-Fl8ew8sI",
        "outputId": "288b0ffb-39be-43d5-9ed7-002f18818023",
        "colab": {
          "base_uri": "https://localhost:8080/"
        }
      },
      "execution_count": null,
      "outputs": [
        {
          "output_type": "stream",
          "name": "stdout",
          "text": [
            "Digite o nome do produto: Caneta\n",
            "Digite a qtde do produto: 10\n",
            "Digite o valor unitário do produto: 10\n",
            "Nome: Caneta\n",
            "Qtde: 10\n",
            "Valor Unitário: 10.0\n",
            "Valor Total: 100.0\n",
            "Informe sua categoria(bronze, prata , ouro): PrAtA    \n",
            "Valor total com desconto para cliente prata: 93.0\n"
          ]
        }
      ]
    },
    {
      "cell_type": "markdown",
      "source": [
        "Altere o exemplo anterior para utilizar funções."
      ],
      "metadata": {
        "id": "5vCB74UQiPfw"
      }
    },
    {
      "cell_type": "code",
      "source": [
        "def valor_total(valor_unitario, qtde, desconto):\n",
        "  return valor_unitario * qtde * (1-desconto)\n",
        "\n",
        "nome = input(\"Digite o nome do produto: \")\n",
        "qtde = int(input(\"Digite a qtde do produto: \"))\n",
        "valor_produto = float(input(\"Digite o valor unitário do produto: \"))\n",
        "print(f\"Nome: {nome}\")\n",
        "print(f\"Qtde: {qtde}\")\n",
        "print(f\"Valor Unitário: {valor_produto}\")\n",
        "print(f\"Valor Total: {valor_total(valor_produto,qtde,0)}\")\n",
        "\n",
        "categoria_cliente = input(\"Informe sua categoria(bronze, prata , ouro): \")\n",
        "categoria_cliente = categoria_cliente.strip().lower()\n",
        "desconto = 0.0\n",
        "if categoria_cliente == \"bronze\":\n",
        "  desconto = 5/100                # desconto = valor_total * (5/100) \n",
        "elif categoria_cliente == \"prata\":\n",
        "  desconto = 7/100\n",
        "elif categoria_cliente == \"ouro\":\n",
        "  desconto - 10/100\n",
        "else:\n",
        "  desconto = 0.0\n",
        "\n",
        "print(f\"Valor total com desconto para cliente {categoria_cliente}: {valor_total(valor_produto,qtde,desconto)}\")\n",
        "\n",
        "\n",
        "\n"
      ],
      "metadata": {
        "id": "fZ_dv9U8gKkN"
      },
      "execution_count": null,
      "outputs": []
    },
    {
      "cell_type": "markdown",
      "source": [
        "1) Tamanho de strings. Faça um programa que leia 2 strings e informe o conteúdo delas seguido do seu comprimento. Informe também se as duas strings possuem o mesmo comprimento e são iguais ou diferentes no conteúdo.\n",
        "\n",
        "Compara duas strings\n",
        "\n",
        "String 1: Brasil Hexa 2022\n",
        "\n",
        "String 2: Brasil! Hexa 2022!\n",
        "\n",
        "Tamanho de \"Brasil Hexa 2022\": 16 caracteres\n",
        "\n",
        "Tamanho de \"Brasil! Hexa 2022!\": 18 caracteres\n",
        "\n",
        "As duas strings são de tamanhos diferentes.\n",
        "\n",
        "As duas strings possuem conteúdo diferente.\n"
      ],
      "metadata": {
        "id": "dc1WMpUKjvqm"
      }
    },
    {
      "cell_type": "code",
      "source": [
        ""
      ],
      "metadata": {
        "id": "3-43F1nYqReO"
      },
      "execution_count": null,
      "outputs": []
    },
    {
      "cell_type": "markdown",
      "source": [
        "\n",
        "2) Nome ao contrário em maiúsculas. Faça um programa que permita ao usuário digitar o seu nome e em seguida mostre o nome do usuário de trás para frente utilizando somente letras maiúsculas. Dica: lembre−se que ao solicitar o nome, o usuário pode digitar letras maiúsculas ou minúsculas."
      ],
      "metadata": {
        "id": "OxqlZ4BxkAkj"
      }
    },
    {
      "cell_type": "code",
      "source": [
        ""
      ],
      "metadata": {
        "id": "2cVQ_eaNqQ-m"
      },
      "execution_count": null,
      "outputs": []
    },
    {
      "cell_type": "markdown",
      "source": [
        "3) Nome na vertical em escada. Modifique o programa anterior de forma a mostrar o nome em formato de escada.\n",
        "\n",
        "F\n",
        "\n",
        "FU\n",
        "\n",
        "FUL\n",
        "\n",
        "FULA\n",
        "\n",
        "FULAN\n",
        "\n",
        "FULANO"
      ],
      "metadata": {
        "id": "5RBHEs34qMt_"
      }
    },
    {
      "cell_type": "code",
      "source": [
        ""
      ],
      "metadata": {
        "id": "3iRYcl_fqRSO"
      },
      "execution_count": null,
      "outputs": []
    }
  ]
}