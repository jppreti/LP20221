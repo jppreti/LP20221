{
  "nbformat": 4,
  "nbformat_minor": 0,
  "metadata": {
    "colab": {
      "name": "Prova1.ipynb",
      "provenance": [],
      "authorship_tag": "ABX9TyNJ2et10fliTYV26ik6lnGJ",
      "include_colab_link": true
    },
    "kernelspec": {
      "name": "python3",
      "display_name": "Python 3"
    },
    "language_info": {
      "name": "python"
    }
  },
  "cells": [
    {
      "cell_type": "markdown",
      "metadata": {
        "id": "view-in-github",
        "colab_type": "text"
      },
      "source": [
        "<a href=\"https://colab.research.google.com/github/jppreti/LP20221/blob/main/Prova1.ipynb\" target=\"_parent\"><img src=\"https://colab.research.google.com/assets/colab-badge.svg\" alt=\"Open In Colab\"/></a>"
      ]
    },
    {
      "cell_type": "markdown",
      "source": [
        "Cada questão vale 2 pontos. Ao término da prova enviar a solução das questões para:\n",
        "\n",
        "e-mail: preti.joao@ifmt.edu.br\n",
        "\n",
        "Assunto: Prova de LP\n",
        "\n",
        "Mensagem: Nome completo do(a) estudante."
      ],
      "metadata": {
        "id": "rUTt56RB1tIL"
      }
    },
    {
      "cell_type": "markdown",
      "source": [
        "**QUESTÃO 1**\n",
        "Faça um programa que peça o tamanho de um arquivo para download (em MB) e a velocidade de um link de Internet (em Mbps), calcule e informe o tempo aproximado de download do arquivo usando este link (em minutos)."
      ],
      "metadata": {
        "id": "DgODERiL2PYX"
      }
    },
    {
      "cell_type": "code",
      "execution_count": 2,
      "metadata": {
        "id": "L8ixfBw21p5-",
        "outputId": "7848641a-90a7-465c-84dd-26cb35845ccb",
        "colab": {
          "base_uri": "https://localhost:8080/"
        }
      },
      "outputs": [
        {
          "output_type": "stream",
          "name": "stdout",
          "text": [
            "Tamanho do arquivo (MB): 10000\n",
            "Velocidade do link (Mbps): 10\n",
            "Tempo aproximado: 16.666666666666668 min\n"
          ]
        }
      ],
      "source": [
        "tamanho = int(input(\"Tamanho do arquivo (MB): \"))\n",
        "velocidade = int(input(\"Velocidade do link (Mbps): \"))\n",
        "\n",
        "print(f\"Tempo aproximado: {tamanho/velocidade/8/60} min\")"
      ]
    },
    {
      "cell_type": "markdown",
      "source": [
        "**QUESTÃO 2** \n",
        "Crie um programa que receba um número, conte o número total de dígitos e mostre o resultado.\n",
        "Por exemplo, se o número é 2021 , então a saída deve ser 4"
      ],
      "metadata": {
        "id": "sIzuNMQq3Ywt"
      }
    },
    {
      "cell_type": "code",
      "source": [
        "print(len(input(\"Numero: \")))"
      ],
      "metadata": {
        "id": "jzQTTnuC4H2H",
        "outputId": "c1a5b982-1153-4e04-c5bc-55ca05a22bf2",
        "colab": {
          "base_uri": "https://localhost:8080/"
        }
      },
      "execution_count": 5,
      "outputs": [
        {
          "output_type": "stream",
          "name": "stdout",
          "text": [
            "Numero: 2021\n",
            "4\n"
          ]
        }
      ]
    },
    {
      "cell_type": "markdown",
      "source": [
        "**QUESTÃO 3** \n",
        "Faça um programa que leia um nome de usuário e a sua senha e não aceite a senha igual ao nome do usuário e nem senha menor do que 5 caracteres, mostrando uma mensagem de erro adequada e voltando a pedir as informações."
      ],
      "metadata": {
        "id": "FdIj3VgV4IX5"
      }
    },
    {
      "cell_type": "code",
      "source": [
        "senhaFraca = True\n",
        "while senhaFraca == True:\n",
        "  nome = input(\"Nome: \")\n",
        "  senha = input(\"Senha: \")\n",
        "  if nome == senha:\n",
        "    senhaFraca = True\n",
        "    print(\"Senha não pode ser igual ao nome\")\n",
        "  elif len(senha) < 5:\n",
        "    senhaFraca = True\n",
        "    print(\"Senha deve possuir pelo menos 5 caraceteres\")\n",
        "  else:\n",
        "    senhaFraca = False"
      ],
      "metadata": {
        "id": "LfrR9CC-4VqR",
        "outputId": "4ea6b90f-d2f3-4039-962b-963685e6c7cd",
        "colab": {
          "base_uri": "https://localhost:8080/"
        }
      },
      "execution_count": 10,
      "outputs": [
        {
          "name": "stdout",
          "output_type": "stream",
          "text": [
            "Nome: joao\n",
            "Senha: joao\n",
            "Senha não pode ser igual ao nome\n",
            "Nome: joao\n",
            "Senha: 123\n",
            "Senha deve possuir pelo menos 5 caraceteres\n",
            "Nome: joao\n",
            "Senha: 123456\n"
          ]
        }
      ]
    },
    {
      "cell_type": "markdown",
      "source": [
        "**QUESTÃO 4**\n",
        "Faça uma função que calcule o fatorial de um número inteiro fornecido pelo usuário. Ex.: 5!=5.4.3.2.1=120"
      ],
      "metadata": {
        "id": "aPIq5ctN4b_d"
      }
    },
    {
      "cell_type": "code",
      "source": [
        "def fat(numero):\n",
        "  resultado = 1\n",
        "  for n in range(1,numero+1):\n",
        "    resultado = resultado * n\n",
        "  return resultado\n",
        "print(fat(5))"
      ],
      "metadata": {
        "id": "WGYT7c_C5MjF",
        "outputId": "91ec2655-93b7-4033-a599-3514e434e4b1",
        "colab": {
          "base_uri": "https://localhost:8080/"
        }
      },
      "execution_count": 9,
      "outputs": [
        {
          "output_type": "stream",
          "name": "stdout",
          "text": [
            "120\n"
          ]
        }
      ]
    },
    {
      "cell_type": "markdown",
      "source": [
        "**QUESTÃO 5**\n",
        "Faça um programa que leia um número e informe se ele é par ou ímpar."
      ],
      "metadata": {
        "id": "q6Kwboxf69YU"
      }
    },
    {
      "cell_type": "code",
      "source": [
        "numero = int(input(\"Numero: \"))\n",
        "\n",
        "if numero % 2 == 0:\n",
        "  print(\"É par\")\n",
        "else:\n",
        "  print(\"É ímpar\")"
      ],
      "metadata": {
        "id": "CvBtqhaA66bS",
        "outputId": "372ca995-f986-4203-e17c-11125307c983",
        "colab": {
          "base_uri": "https://localhost:8080/"
        }
      },
      "execution_count": 7,
      "outputs": [
        {
          "output_type": "stream",
          "name": "stdout",
          "text": [
            "Numero: 3\n",
            "É ímpar\n"
          ]
        }
      ]
    }
  ]
}