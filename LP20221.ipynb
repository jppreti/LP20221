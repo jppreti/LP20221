{
  "nbformat": 4,
  "nbformat_minor": 0,
  "metadata": {
    "colab": {
      "name": "LP20221.ipynb",
      "provenance": [],
      "authorship_tag": "ABX9TyOiyKciWcJU7Yxvk/DLT0/6"
    },
    "kernelspec": {
      "name": "python3",
      "display_name": "Python 3"
    },
    "language_info": {
      "name": "python"
    }
  },
  "cells": [
    {
      "cell_type": "markdown",
      "source": [
        "Códigos apresentados na disciplina de **Laboratório de Programação** da turma **2022/1**."
      ],
      "metadata": {
        "id": "IahjAHqIjbEw"
      }
    },
    {
      "cell_type": "code",
      "execution_count": null,
      "metadata": {
        "id": "9Of7DJmyTvaj"
      },
      "outputs": [],
      "source": [
        ""
      ]
    }
  ]
}